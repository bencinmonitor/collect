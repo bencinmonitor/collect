{
 "cells": [
  {
   "cell_type": "code",
   "execution_count": 1,
   "metadata": {
    "collapsed": false
   },
   "outputs": [],
   "source": [
    "from fuzzywuzzy import fuzz, process"
   ]
  },
  {
   "cell_type": "code",
   "execution_count": 4,
   "metadata": {
    "collapsed": false
   },
   "outputs": [],
   "source": [
    "raw_text = ['Kurilno olje OMV fLIlurPIus ONIH Diesel-\\n0782 EUR 1 .110 EUR\\n\\n',\n",
    " 'DatumrČas MaxxMution 95 quxMution 1Dll\\n'\n",
    " '2016-11-25 00:08 1 206 EUR 1 288 EUR\\n'\n",
    " '\\n',\n",
    " 'DatumIČas. Maxxnflution 95 MaxxMotion 1llll OMV Diesel\\n'\n",
    " '2016-11-24 23:48 1 206 EUR 1.282 EUR 1 .110 EUR\\n'\n",
    " '\\n',\n",
    " 'G Max 95 1,206\\nQ Max 100 1,289\\nQ Max Diesel 1,110\\nQ Max LPG 0,615\\n\\n',\n",
    " 'G Max 95 1,206\\n'\n",
    " 'Q Max 100 1,289\\n'\n",
    " 'Q Max Diesel 1,110\\n'\n",
    " 'Kurilno olje EL 0383\\n'\n",
    " '\\n',\n",
    " 'Cz Max 95 1,206\\nQ Max Diesel 1,110\\n\\n']\n",
    "joined_text = '\\n'.join(raw_text)"
   ]
  },
  {
   "cell_type": "code",
   "execution_count": 34,
   "metadata": {
    "collapsed": false
   },
   "outputs": [
    {
     "name": "stdout",
     "output_type": "stream",
     "text": [
      "Kurilno ~> Kurilno (100)\n",
      "olje ~> olje (100)\n",
      "OMV ~> OMV (100)\n",
      "fLIlurPIus ~> futurPlus (63)\n",
      "ONIH\n",
      "Diesel- ~> Diesel (100)\n",
      "0782\n",
      "EUR ~> EUR (100)\n",
      "1\n",
      ".110\n",
      "EUR ~> EUR (100)\n",
      "DatumrČas ~> Datum/Čas (89)\n",
      "MaxxMution ~> MaxxMotion (90)\n",
      "95\n",
      "quxMution ~> MaxxMotion (63)\n",
      "1Dll\n",
      "2016-11-25\n",
      "00:08\n",
      "1\n",
      "206\n",
      "EUR ~> EUR (100)\n",
      "1\n",
      "288\n",
      "EUR ~> EUR (100)\n",
      "DatumIČas. ~> Datum/Čas (89)\n",
      "Maxxnflution ~> Max (90)\n",
      "95\n",
      "MaxxMotion ~> MaxxMotion (100)\n",
      "1llll\n",
      "OMV ~> OMV (100)\n",
      "Diesel ~> Diesel (100)\n",
      "2016-11-24\n",
      "23:48\n",
      "1\n",
      "206\n",
      "EUR ~> EUR (100)\n",
      "1.282\n",
      "EUR ~> EUR (100)\n",
      "1\n",
      ".110\n",
      "EUR ~> EUR (100)\n",
      "G ~> LPG (90)\n",
      "Max ~> Max (100)\n",
      "95\n",
      "1,206\n",
      "Q ~> Q (100)\n",
      "Max ~> Max (100)\n",
      "100\n",
      "1,289\n",
      "Q ~> Q (100)\n",
      "Max ~> Max (100)\n",
      "Diesel ~> Diesel (100)\n",
      "1,110\n",
      "Q ~> Q (100)\n",
      "Max ~> Max (100)\n",
      "LPG ~> LPG (100)\n",
      "0,615\n",
      "G ~> LPG (90)\n",
      "Max ~> Max (100)\n",
      "95\n",
      "1,206\n",
      "Q ~> Q (100)\n",
      "Max ~> Max (100)\n",
      "100\n",
      "1,289\n",
      "Q ~> Q (100)\n",
      "Max ~> Max (100)\n",
      "Diesel ~> Diesel (100)\n",
      "1,110\n",
      "Kurilno ~> Kurilno (100)\n",
      "olje ~> olje (100)\n",
      "EL ~> EL (100)\n",
      "0383\n",
      "Cz\n",
      "Max ~> Max (100)\n",
      "95\n",
      "1,206\n",
      "Q ~> Q (100)\n",
      "Max ~> Max (100)\n",
      "Diesel ~> Diesel (100)\n",
      "1,110\n"
     ]
    }
   ],
   "source": [
    "dictionary = ['Kurilno', 'olje', 'EL', 'OMV', 'Petrol', 'Diesel', 'MaxxMotion', 'EUR', 'Datum/Čas',\n",
    "             'Max', 'LPG', 'futurPlus', 'Q', 'Q Max', 'OMV Diesel', 'Max Diesel']\n",
    "\n",
    "for word in joined_text.split():\n",
    "    scorer = fuzz.token_sort_ratio\n",
    "    new_word, score = process.extractOne(word, dictionary)\n",
    "    if score >= 60:\n",
    "        print(\"%s ~> %s (%d)\" % (word, new_word, score))\n",
    "    else:\n",
    "        print(word)\n",
    "    "
   ]
  },
  {
   "cell_type": "code",
   "execution_count": null,
   "metadata": {
    "collapsed": true
   },
   "outputs": [],
   "source": []
  }
 ],
 "metadata": {
  "kernelspec": {
   "display_name": "Python 3",
   "language": "python",
   "name": "python3"
  },
  "language_info": {
   "codemirror_mode": {
    "name": "ipython",
    "version": 3
   },
   "file_extension": ".py",
   "mimetype": "text/x-python",
   "name": "python",
   "nbconvert_exporter": "python",
   "pygments_lexer": "ipython3",
   "version": "3.5.2"
  }
 },
 "nbformat": 4,
 "nbformat_minor": 1
}
