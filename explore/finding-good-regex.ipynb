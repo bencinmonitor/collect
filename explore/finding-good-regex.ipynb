{
 "cells": [
  {
   "cell_type": "code",
   "execution_count": 1,
   "metadata": {
    "collapsed": true
   },
   "outputs": [],
   "source": [
    "import re"
   ]
  },
  {
   "cell_type": "code",
   "execution_count": 24,
   "metadata": {
    "collapsed": false
   },
   "outputs": [
    {
     "data": {
      "text/plain": [
       "'1 288,1'"
      ]
     },
     "execution_count": 24,
     "metadata": {},
     "output_type": "execute_result"
    }
   ],
   "source": [
    "re.sub(\"((\\d)[\\s\\.\\,]?(\\d{3,3}))\", r\"\\1,\\2\", \"1 288\")"
   ]
  },
  {
   "cell_type": "code",
   "execution_count": 45,
   "metadata": {
    "collapsed": false
   },
   "outputs": [
    {
     "name": "stdout",
     "output_type": "stream",
     "text": [
      "test 3333 d = test 3,333d\n",
      "d 4 444 d = d 4,444d\n",
      "5,555 = 5,555\n",
      "6 .666 = 6 .666\n",
      "who 7 ,777 e = who 7,777e\n",
      "33:33 = 33:33\n"
     ]
    }
   ],
   "source": [
    "examples = [\"test 3333 d\", \"d 4 444 d\", \"5,555\", \"6 .666\", \"who 7 ,777 e\", \"33:33\"]\n",
    "def fix(string):\n",
    "    return re.sub(r\"(\\d{1,1})\\s*[\\.\\,]?(\\d{3,3})\\b\\s\", r\"\\1,\\2\", string)\n",
    "\n",
    "for string in examples:\n",
    "    print(\"%s = %s\" % (string, fix(string)))\n",
    "    "
   ]
  },
  {
   "cell_type": "code",
   "execution_count": null,
   "metadata": {
    "collapsed": true
   },
   "outputs": [],
   "source": []
  }
 ],
 "metadata": {
  "kernelspec": {
   "display_name": "Python 3",
   "language": "python",
   "name": "python3"
  },
  "language_info": {
   "codemirror_mode": {
    "name": "ipython",
    "version": 3
   },
   "file_extension": ".py",
   "mimetype": "text/x-python",
   "name": "python",
   "nbconvert_exporter": "python",
   "pygments_lexer": "ipython3",
   "version": "3.5.2"
  }
 },
 "nbformat": 4,
 "nbformat_minor": 1
}
